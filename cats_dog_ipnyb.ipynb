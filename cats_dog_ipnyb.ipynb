{
  "nbformat": 4,
  "nbformat_minor": 0,
  "metadata": {
    "colab": {
      "name": "cats_dog.ipnyb",
      "provenance": [],
      "collapsed_sections": []
    },
    "kernelspec": {
      "name": "python3",
      "display_name": "Python 3"
    },
    "language_info": {
      "name": "python"
    }
  },
  "cells": [
    {
      "cell_type": "code",
      "metadata": {
        "id": "qAogTj7N7XME"
      },
      "source": [
        "try:\n",
        "  # This command only in Colab.\n",
        "  %tensorflow_version 2.x\n",
        "except Exception:\n",
        "  pass\n",
        "import tensorflow as tf\n",
        "\n",
        "from tensorflow.keras.models import Sequential\n",
        "from tensorflow.keras.layers import Dense, Conv2D, Flatten, Dropout, MaxPooling2D,BatchNormalization\n",
        "from tensorflow.keras.preprocessing.image import ImageDataGenerator, load_img, img_to_array\n",
        "\n",
        "import os\n",
        "import numpy as np\n",
        "import matplotlib.pyplot as plt\n",
        "import math\n"
      ],
      "execution_count": null,
      "outputs": []
    },
    {
      "cell_type": "code",
      "metadata": {
        "id": "zt10auiODAoR"
      },
      "source": [
        "# Get project files\n",
        "!wget https://cdn.freecodecamp.org/project-data/cats-and-dogs/cats_and_dogs.zip\n",
        "\n",
        "!unzip cats_and_dogs.zip\n",
        "\n",
        "PATH = 'cats_and_dogs'\n",
        "\n",
        "train_dir = os.path.join(PATH, 'train')\n",
        "validation_dir = os.path.join(PATH, 'validation')\n",
        "test_dir = os.path.join(PATH, 'test')\n",
        "\n",
        "# Get number of files in each directory. The train and validation directories\n",
        "# each have the subdirecories \"dogs\" and \"cats\".\n",
        "total_train = sum([len(files) for r, d, files in os.walk(train_dir)])\n",
        "total_val = sum([len(files) for r, d, files in os.walk(validation_dir)])\n",
        "total_test = len(os.listdir(test_dir))"
      ],
      "execution_count": null,
      "outputs": []
    },
    {
      "cell_type": "code",
      "metadata": {
        "colab": {
          "base_uri": "https://localhost:8080/"
        },
        "id": "JEPLY64n7eNg",
        "outputId": "02b13139-d6a5-421c-9f37-718978c42bc3"
      },
      "source": [
        "batch_size = 100\n",
        "epochs = 10\n",
        "IMG_HEIGHT = 128\n",
        "IMG_WIDTH = 128\n",
        "SEED = 1337\n",
        "\n",
        "train_image_generator = ImageDataGenerator(\n",
        "    rescale=1./255,\n",
        "    shear_range=0.2,\n",
        "    zoom_range=0.2,\n",
        "    horizontal_flip=True)\n",
        "validation_image_generator = ImageDataGenerator(rescale=1./255)\n",
        "test_image_generator = ImageDataGenerator(rescale=1./255)\n",
        "\n",
        "\n",
        "train_data_gen = train_image_generator.flow_from_directory(\n",
        "    train_dir,\n",
        "    target_size=(IMG_HEIGHT,IMG_WIDTH),\n",
        "    batch_size = 20,\n",
        "    class_mode='binary')\n",
        "\n",
        "val_data_gen = train_image_generator.flow_from_directory(\n",
        "    validation_dir,\n",
        "    target_size=(IMG_HEIGHT,IMG_WIDTH),\n",
        "    batch_size = 20,\n",
        "    class_mode='binary')\n",
        "\n",
        "test_data_gen = test_image_generator.flow_from_directory(\n",
        "    directory = PATH,\n",
        "    classes = ['test'],\n",
        "    target_size = (IMG_HEIGHT, IMG_WIDTH),\n",
        "    shuffle=False)"
      ],
      "execution_count": null,
      "outputs": [
        {
          "output_type": "stream",
          "text": [
            "Found 2000 images belonging to 2 classes.\n",
            "Found 1000 images belonging to 2 classes.\n",
            "Found 50 images belonging to 1 classes.\n"
          ],
          "name": "stdout"
        }
      ]
    },
    {
      "cell_type": "code",
      "metadata": {
        "id": "0k5_TUNe7-8d",
        "colab": {
          "base_uri": "https://localhost:8080/"
        },
        "outputId": "e85c8016-d45a-4446-ce95-a47f289053a2"
      },
      "source": [
        "model = Sequential()\n",
        "#Convolutional Base\n",
        "model.add(Conv2D(16,3,activation='relu',input_shape=(IMG_HEIGHT,IMG_WIDTH,3)))\n",
        "model.add(MaxPooling2D(2))\n",
        "\n",
        "model.add(Conv2D(32,3,activation='relu'))\n",
        "model.add(MaxPooling2D(2))\n",
        "\n",
        "model.add(Conv2D(64,3,activation='relu'))\n",
        "model.add(MaxPooling2D(2))\n",
        "\n",
        "#Classifier\n",
        "model.add(Flatten())\n",
        "model.add(Dense(512,activation='relu'))\n",
        "model.add(Dense(1,activation='sigmoid'))\n",
        "\n",
        "model.summary()\n",
        "model.compile(optimizer='adam',\n",
        "              loss='binary_crossentropy',\n",
        "              metrics=['accuracy'])"
      ],
      "execution_count": null,
      "outputs": [
        {
          "output_type": "stream",
          "text": [
            "Model: \"sequential_1\"\n",
            "_________________________________________________________________\n",
            "Layer (type)                 Output Shape              Param #   \n",
            "=================================================================\n",
            "conv2d (Conv2D)              (None, 126, 126, 16)      448       \n",
            "_________________________________________________________________\n",
            "max_pooling2d (MaxPooling2D) (None, 63, 63, 16)        0         \n",
            "_________________________________________________________________\n",
            "conv2d_1 (Conv2D)            (None, 61, 61, 32)        4640      \n",
            "_________________________________________________________________\n",
            "max_pooling2d_1 (MaxPooling2 (None, 30, 30, 32)        0         \n",
            "_________________________________________________________________\n",
            "conv2d_2 (Conv2D)            (None, 28, 28, 64)        18496     \n",
            "_________________________________________________________________\n",
            "max_pooling2d_2 (MaxPooling2 (None, 14, 14, 64)        0         \n",
            "_________________________________________________________________\n",
            "flatten (Flatten)            (None, 12544)             0         \n",
            "_________________________________________________________________\n",
            "dense (Dense)                (None, 512)               6423040   \n",
            "_________________________________________________________________\n",
            "dense_1 (Dense)              (None, 1)                 513       \n",
            "=================================================================\n",
            "Total params: 6,447,137\n",
            "Trainable params: 6,447,137\n",
            "Non-trainable params: 0\n",
            "_________________________________________________________________\n"
          ],
          "name": "stdout"
        }
      ]
    },
    {
      "cell_type": "code",
      "metadata": {
        "id": "rCqzfm4-8BMa",
        "colab": {
          "base_uri": "https://localhost:8080/"
        },
        "outputId": "79fba3ee-46c0-4831-bf41-d476353c40eb"
      },
      "source": [
        "import math\n",
        "\n",
        "history = model.fit_generator(\n",
        "    train_data_gen,\n",
        "    steps_per_epoch=100,\n",
        "    epochs=epochs,\n",
        "    validation_data=val_data_gen,\n",
        "    validation_steps=50)"
      ],
      "execution_count": null,
      "outputs": [
        {
          "output_type": "stream",
          "text": [
            "/usr/local/lib/python3.7/dist-packages/tensorflow/python/keras/engine/training.py:1844: UserWarning: `Model.fit_generator` is deprecated and will be removed in a future version. Please use `Model.fit`, which supports generators.\n",
            "  warnings.warn('`Model.fit_generator` is deprecated and '\n"
          ],
          "name": "stderr"
        },
        {
          "output_type": "stream",
          "text": [
            "Epoch 1/10\n",
            "100/100 [==============================] - 53s 525ms/step - loss: 0.7171 - accuracy: 0.5262 - val_loss: 0.6721 - val_accuracy: 0.5200\n",
            "Epoch 2/10\n",
            "100/100 [==============================] - 52s 517ms/step - loss: 0.6699 - accuracy: 0.5745 - val_loss: 0.6476 - val_accuracy: 0.6200\n",
            "Epoch 3/10\n",
            "100/100 [==============================] - 52s 515ms/step - loss: 0.6401 - accuracy: 0.6316 - val_loss: 0.6308 - val_accuracy: 0.6400\n",
            "Epoch 4/10\n",
            "100/100 [==============================] - 51s 514ms/step - loss: 0.5909 - accuracy: 0.6832 - val_loss: 0.6468 - val_accuracy: 0.6410\n",
            "Epoch 5/10\n",
            "100/100 [==============================] - 52s 519ms/step - loss: 0.5752 - accuracy: 0.6739 - val_loss: 0.6088 - val_accuracy: 0.6690\n",
            "Epoch 6/10\n",
            "100/100 [==============================] - 52s 516ms/step - loss: 0.5436 - accuracy: 0.7233 - val_loss: 0.5976 - val_accuracy: 0.6830\n",
            "Epoch 7/10\n",
            "100/100 [==============================] - 52s 516ms/step - loss: 0.5256 - accuracy: 0.7312 - val_loss: 0.5623 - val_accuracy: 0.7120\n",
            "Epoch 8/10\n",
            "100/100 [==============================] - 52s 517ms/step - loss: 0.5182 - accuracy: 0.7393 - val_loss: 0.6071 - val_accuracy: 0.7090\n",
            "Epoch 9/10\n",
            "100/100 [==============================] - 52s 515ms/step - loss: 0.4766 - accuracy: 0.7675 - val_loss: 0.5541 - val_accuracy: 0.7350\n",
            "Epoch 10/10\n",
            "100/100 [==============================] - 51s 514ms/step - loss: 0.4711 - accuracy: 0.7689 - val_loss: 0.5549 - val_accuracy: 0.7120\n"
          ],
          "name": "stdout"
        }
      ]
    },
    {
      "cell_type": "code",
      "metadata": {
        "colab": {
          "base_uri": "https://localhost:8080/"
        },
        "id": "OXgeaNUl63W3",
        "outputId": "1e246853-4342-4040-b612-3ada07e7cccd"
      },
      "source": [
        "acc = history.history['accuracy']\n",
        "print(len(acc))\n",
        "val_acc = history.history['val_accuracy']\n",
        "print(len(val_acc))"
      ],
      "execution_count": null,
      "outputs": [
        {
          "output_type": "stream",
          "text": [
            "10\n",
            "10\n"
          ],
          "name": "stdout"
        }
      ]
    },
    {
      "cell_type": "code",
      "metadata": {
        "id": "bJeF3za68JUL",
        "colab": {
          "base_uri": "https://localhost:8080/",
          "height": 499
        },
        "outputId": "bac441cb-1798-40d1-ae72-0727480c8a33"
      },
      "source": [
        "acc = history.history['accuracy']\n",
        "val_acc = history.history['val_accuracy']\n",
        "\n",
        "loss = history.history['loss']\n",
        "val_loss = history.history['val_loss']\n",
        "\n",
        "epochs_range = range(epochs)\n",
        "\n",
        "plt.figure(figsize=(8, 8))\n",
        "plt.subplot(1, 2, 1)\n",
        "plt.plot(epochs_range, acc, label='Training Accuracy')\n",
        "plt.plot(epochs_range, val_acc, label='Validation Accuracy')\n",
        "plt.legend(loc='lower right')\n",
        "plt.title('Training and Validation Accuracy')\n",
        "\n",
        "plt.subplot(1, 2, 2)\n",
        "plt.plot(epochs_range, loss, label='Training Loss')\n",
        "plt.plot(epochs_range, val_loss, label='Validation Loss')\n",
        "plt.legend(loc='upper right')\n",
        "plt.title('Training and Validation Loss')\n",
        "plt.show()"
      ],
      "execution_count": null,
      "outputs": [
        {
          "output_type": "display_data",
          "data": {
            "image/png": "[encoded data removed]",
            "text/plain": [
              "<Figure size 576x576 with 2 Axes>"
            ]
          },
          "metadata": {
            "tags": [],
            "needs_background": "light"
          }
        }
      ]
    },
    {
      "cell_type": "code",
      "metadata": {
        "id": "jRa9sdhr7FEr"
      },
      "source": [
        "probabilities = model.predict(test_data_gen)\n",
        "print(probabilities)"
      ],
      "execution_count": null,
      "outputs": []
    },
    {
      "cell_type": "code",
      "metadata": {
        "colab": {
          "base_uri": "https://localhost:8080/"
        },
        "id": "TiXDvga_7LHM",
        "outputId": "bb8155ec-7945-4679-a9c4-13bf6e5e5c68"
      },
      "source": [
        "answers =  [1, 0, 0, 1, 0, 0, 0, 0, 1, 1, 0,\n",
        "            1, 0, 1, 0, 1, 1, 0, 1, 1, 0, 0,\n",
        "            1, 1, 1, 1, 1, 0, 0, 0, 0, 0, 1,\n",
        "            1, 0, 1, 1, 1, 1, 0, 1, 0, 1, 1, \n",
        "            0, 0, 0, 0, 0, 0]\n",
        "\n",
        "correct = 0\n",
        "\n",
        "for probability, answer in zip(probabilities, answers):\n",
        "  if np.round(probability) == answer:\n",
        "    correct +=1\n",
        "\n",
        "percentage_identified = (correct / len(answers))\n",
        "\n",
        "passed_challenge = percentage_identified > 0.63\n",
        "\n",
        "print(f\"Your model correctly identified {round(percentage_identified, 2)*100}% of the images of cats and dogs.\")\n",
        "\n",
        "if passed_challenge:\n",
        "  print(\"You passed the challenge!\")\n",
        "else:\n",
        "  print(\"You haven't passed yet. Your model should identify at least 63% of the images. Keep trying. You will get it!\")"
      ],
      "execution_count": null,
      "outputs": [
        {
          "output_type": "stream",
          "text": [
            "Your model correctly identified 74.0% of the images of cats and dogs.\n",
            "You passed the challenge!\n"
          ],
          "name": "stdout"
        }
      ]
    },
    {
      "cell_type": "code",
      "metadata": {
        "id": "PrX4q28B82Lh"
      },
      "source": [
        "from google.colab import drive\n",
        "drive.mount('/content/drive')\n",
        "print('\\n')\n",
        "test_image=load_img('/content/drive/My Drive/kopek.jpg', target_size=(128,128))\n",
        "plt.imshow(test_image)\n",
        "\n",
        "test_image = img_to_array(test_image)\n",
        "test_image = np.expand_dims(test_image, axis=0) \n",
        "result = model.predict(test_image, batch_size=1)\n",
        "\n",
        "if result==1:\n",
        "  plt.title('Dog')\n",
        "else:\n",
        "  plt.title('Cat')"
      ],
      "execution_count": null,
      "outputs": []
    }
  ]
}
